{
 "cells": [
  {
   "cell_type": "markdown",
   "metadata": {},
   "source": [
    "# March Madness 2017 Prediction Pipeline - Larger Feature Set\n",
    "\n",
    "The following notebook shows the steps used to preprocess the tournament data, create new features, evaluate features, create the datasets used to train the predictive models on, train the predictive models on the appropriate datasets, and come up with probability predictions for all games in a season's March Madness tournament. This version uses a larger number of the available features."
   ]
  },
  {
   "cell_type": "code",
   "execution_count": 1,
   "metadata": {
    "collapsed": true
   },
   "outputs": [],
   "source": [
    "import pandas as pd\n",
    "import numpy as np\n",
    "\n",
    "from sklearn.linear_model import LogisticRegression\n",
    "from sklearn.model_selection import GridSearchCV\n",
    "from sklearn.ensemble import RandomForestClassifier\n",
    "from sklearn.feature_selection import RFE\n",
    "\n",
    "import warnings\n",
    "warnings.filterwarnings(\"ignore\")"
   ]
  },
  {
   "cell_type": "markdown",
   "metadata": {},
   "source": [
    "Loading all of the Datasets from their respective CSV Files"
   ]
  },
  {
   "cell_type": "code",
   "execution_count": 2,
   "metadata": {
    "collapsed": false
   },
   "outputs": [],
   "source": [
    "pom = pd.read_csv('PomeroyOnlyWinrateRank.csv')\n",
    "det = pd.read_csv('RegularSeasonDetailedResults.csv')\n",
    "reg = pd.read_csv('RegularSeasonCompactResults.csv')\n",
    "det = pd.read_csv('RegularSeasonDetailedResults.csv')\n",
    "seasons = pd.read_csv('Seasons.csv')\n",
    "teams = pd.read_csv('Teams.csv')\n",
    "tcomp = pd.read_csv('TourneyCompactResults.csv')\n",
    "tdet = pd.read_csv('TourneyDetailedResults.csv')\n",
    "seeds = pd.read_csv('TourneySeeds.csv')\n",
    "slots = pd.read_csv('TourneySlots.csv')\n",
    "sub = pd.read_csv('SampleSubmission.csv')"
   ]
  },
  {
   "cell_type": "markdown",
   "metadata": {},
   "source": [
    "Creating a seed attribute for every team. Teams that did not make the NCAA Finals in their respective season are given a seed of 17."
   ]
  },
  {
   "cell_type": "code",
   "execution_count": 3,
   "metadata": {
    "collapsed": false
   },
   "outputs": [],
   "source": [
    "def seed_to_int(seed):\n",
    "    '''\n",
    "    str -> int\n",
    "    \n",
    "    Gets only the digits from the seeding. Returns as an integer.\n",
    "    '''\n",
    "    s_int = int(seed[1:3])\n",
    "    return s_int\n",
    "\n",
    "past_2003 = seeds['Season'] >= 2003\n",
    "seeds['n_seed'] = seeds.Seed.apply(seed_to_int)\n",
    "seeds.drop(labels=['Seed'], inplace=True, axis=1)  \n",
    "seeds = seeds[past_2003].reset_index(drop=True)\n",
    "\n",
    "stats = ['Season', 'Wteam', 'Lteam', 'Wscore', 'Lscore', 'Wfgm', 'Lfgm', 'Wfga3', 'Lfga3', 'Wfgm3', 'Lfgm3',\n",
    "                   'Wftm', 'Lftm', 'Wto', 'Lto', 'Wblk', 'Lblk', 'Wpf', 'Lpf', 'Wdr', 'Ldr']\n",
    "\n",
    "det_stats = det[stats]\n",
    "det_stats['Wseed'] = 17\n",
    "det_stats['Lseed'] = 17\n",
    "\n",
    "for ii, row in det_stats.iterrows():\n",
    "\n",
    "    find_season = seeds['Season'] == row[0]\n",
    "    find_team_winner = seeds['Team'] == row[1]\n",
    "\n",
    "    temp = seeds[find_season & find_team_winner]\n",
    "    if len(temp) > 0:\n",
    "        winner_seed = temp.iloc[0, 2]\n",
    "        row[-2] = winner_seed\n",
    "\n",
    "    find_team_loser = seeds['Team'] == row[2]\n",
    "    temp = seeds[find_season & find_team_loser]\n",
    "    if len(temp) > 0:\n",
    "        loser_seed = temp.iloc[0, 2]\n",
    "        row[-1] = loser_seed\n",
    "\n",
    "det['Wseed'] = det_stats['Wseed']\n",
    "det['Lseed'] = det_stats['Lseed']\n"
   ]
  },
  {
   "cell_type": "code",
   "execution_count": 4,
   "metadata": {
    "collapsed": true
   },
   "outputs": [],
   "source": [
    "#Creating percentage statistics attributes from shots made and shots attempted by each team\n",
    "det['Wfgp'] = det['Wfgm'] / det['Wfga']\n",
    "det['Lfgp'] = det['Lfgm'] / det['Lfga']\n",
    "det['Wfg3p'] = det['Wfgm3'] / det['Wfga3']\n",
    "det['Lfg3p'] = det['Lfgm3'] / det['Lfga3']\n",
    "det['Wftp'] = det['Wftm'] / det['Wfta']\n",
    "det['Lftp'] = det['Lftm'] / det['Lfta']"
   ]
  },
  {
   "cell_type": "code",
   "execution_count": 5,
   "metadata": {
    "collapsed": false
   },
   "outputs": [
    {
     "data": {
      "text/plain": [
       "Index([u'Season', u'Daynum', u'Wteam', u'Wscore', u'Lteam', u'Lscore', u'Wloc',\n",
       "       u'Numot', u'Wfgm', u'Wfga', u'Wfgm3', u'Wfga3', u'Wftm', u'Wfta',\n",
       "       u'Wor', u'Wdr', u'Wast', u'Wto', u'Wstl', u'Wblk', u'Wpf', u'Lfgm',\n",
       "       u'Lfga', u'Lfgm3', u'Lfga3', u'Lftm', u'Lfta', u'Lor', u'Ldr', u'Last',\n",
       "       u'Lto', u'Lstl', u'Lblk', u'Lpf', u'Wseed', u'Lseed', u'Wfgp', u'Lfgp',\n",
       "       u'Wfg3p', u'Lfg3p', u'Wftp', u'Lftp'],\n",
       "      dtype='object')"
      ]
     },
     "execution_count": 5,
     "metadata": {},
     "output_type": "execute_result"
    }
   ],
   "source": [
    "det.columns"
   ]
  },
  {
   "cell_type": "code",
   "execution_count": 6,
   "metadata": {
    "collapsed": true
   },
   "outputs": [],
   "source": [
    "det.to_csv(\"RegularSeasonDetailedResultsNewFeatures.csv\")"
   ]
  },
  {
   "cell_type": "markdown",
   "metadata": {},
   "source": [
    "The following block is used to create a new dataset for training the model on. The range is used to define which years from the detailed Massey statistics to use for the training set, with the second year input being non-inclusive. To test a model on an earlier year's tournament, change the second year in the range argument."
   ]
  },
  {
   "cell_type": "code",
   "execution_count": 7,
   "metadata": {
    "collapsed": false
   },
   "outputs": [
    {
     "name": "stdout",
     "output_type": "stream",
     "text": [
      "(4616, 16)\n",
      "(4616, 16)\n",
      "(4571, 16)\n",
      "(9187, 16)\n",
      "(4675, 16)\n",
      "(13862, 16)\n",
      "(4757, 16)\n",
      "(18619, 16)\n",
      "(5043, 16)\n",
      "(23662, 16)\n",
      "(5163, 16)\n",
      "(28825, 16)\n",
      "(5249, 16)\n",
      "(34074, 16)\n",
      "(5263, 16)\n",
      "(39337, 16)\n",
      "(5246, 16)\n",
      "(44583, 16)\n",
      "(5253, 16)\n",
      "(49836, 16)\n",
      "(5320, 16)\n",
      "(55156, 16)\n",
      "(5362, 16)\n",
      "(60518, 16)\n",
      "(5354, 16)\n",
      "(65872, 16)\n"
     ]
    }
   ],
   "source": [
    "dataset = pd.DataFrame()\n",
    "for i in range(2003, 2016):\n",
    "\n",
    "    year = det['Season'] == i\n",
    "    data_year = det[year]\n",
    "    important_stats = ['Wteam', 'Lteam', 'Wscore', 'Lscore', 'Wfgm', 'Lfgm', 'Wfga3', 'Lfga3', 'Wfgm3', 'Lfgm3',\n",
    "                       'Wftm', 'Lftm', 'Wto', 'Lto', 'Wblk', 'Lblk', 'Wpf', 'Lpf', 'Wdr', 'Ldr', 'Wseed', \n",
    "                       'Lseed', 'Wfgp', 'Lfgp', 'Wfg3p', 'Lfg3p', 'Wftp', 'Lftp', \n",
    "                        'Wstl', 'Lstl']\n",
    "    data_year = data_year[important_stats]\n",
    "    data_year = data_year.sample(frac=1).reset_index(drop=True)\n",
    "    split_index = len(data_year) // 2\n",
    "    winners_year = data_year[:split_index]\n",
    "    losers_year = data_year[split_index:]\n",
    "    losers_year = losers_year.reset_index().drop('index', 1)\n",
    "    \n",
    "    \n",
    "    X_winners = np.zeros([winners_year.shape[0], 15])\n",
    "    X_losers = np.zeros([losers_year.shape[0], 15])\n",
    "\n",
    "    #Create training examples out of winners\n",
    "    for ii, row in winners_year.iterrows():\n",
    "        winner = row[0]\n",
    "        loser = row[1]\n",
    "\n",
    "        # Calculate seasonal average stats for winner\n",
    "        is_winner_win = data_year['Wteam'] == winner\n",
    "        winner_wins = data_year[is_winner_win]\n",
    "        is_winner_loss = data_year['Lteam'] == winner\n",
    "        winner_losses = data_year[is_winner_loss]\n",
    "        winner_wins = winner_wins.drop(['Wteam', 'Lteam'], axis=1)\n",
    "        winner_wins = winner_wins.rename(\n",
    "            columns={'Wfgm': 'fgm', 'Wfga3': 'fga3', 'Wfgm3': 'fgm3', 'Wftm': 'ftm', 'Wto': 'to',\n",
    "                     'Wblk': 'blk', 'Wpf': 'pf', 'Wdr': 'dr', 'Wseed': 'seed', \n",
    "                     'Wfgp': 'fgp', 'Wfg3p': 'fg3p', 'Wftp': 'ftp', 'Wstl': 'stl'})\n",
    "        winner_losses = winner_losses.drop(['Wteam', 'Lteam'], 1)\n",
    "        winner_losses = winner_losses.rename(\n",
    "            columns={'Lfgm': 'fgm', 'Lfga3': 'fga3', 'Lfgm3': 'fgm3', 'Lftm': 'ftm', 'Lto': 'to',\n",
    "                     'Lblk': 'blk', 'Lpf': 'pf', 'Ldr': 'dr', 'Lseed': 'seed',\n",
    "                     'Lfgp': 'fgp', 'Lfg3p': 'fg3p', 'Lftp': 'ftp', 'Lstl': 'stl'})\n",
    "        winner_data = pd.concat([winner_wins, winner_losses], axis=0)\n",
    "\n",
    "        winner_averages = [winner_data[\"fgm\"].mean(), winner_data[\"fga3\"].mean(),\n",
    "                           winner_data[\"fgm3\"].mean(), winner_data[\"ftm\"].mean(), winner_data[\"to\"].mean(),\n",
    "                           winner_data[\"blk\"].mean(), winner_data[\"pf\"].mean(), winner_data[\"dr\"].mean(), \n",
    "                           winner_data[\"seed\"].iloc[0], winner_data[\"fgp\"].mean(),\n",
    "                           winner_data[\"fg3p\"].mean(), winner_data[\"ftp\"].mean(), \n",
    "                           winner_data[\"stl\"].mean()]\n",
    "        \n",
    "        find_winner = pom['team_id'] == winner\n",
    "        find_loser = pom['team_id'] == loser\n",
    "        find_season = pom['Season'] == i\n",
    "        winner_stats = pom[find_winner & find_season].drop(['Season', 'team_id'], axis=1)\n",
    "  \n",
    "        if len(winner_stats) > 0:\n",
    "            winner_pom = winner_stats.values[0]\n",
    "            winner_averages.append(winner_pom[0])\n",
    "            winner_averages.append(winner_pom[1])\n",
    "        else:\n",
    "            winner_averages.append(0)\n",
    "            winner_averages.append(0)\n",
    "            \n",
    "\n",
    "        winner_averages = np.array(winner_averages)\n",
    "\n",
    "        # Calculate seasonal average stats for loser\n",
    "        is_loser_win = data_year['Wteam'] == loser\n",
    "        loser_wins = data_year[is_loser_win]\n",
    "        is_loser_loss = data_year['Lteam'] == loser\n",
    "        loser_losses = data_year[is_loser_loss]\n",
    "        loser_wins = loser_wins.drop(['Wteam', 'Lteam'], 1)\n",
    "        loser_wins = loser_wins.rename(\n",
    "            columns={'Wfgm': 'fgm', 'Wfga3': 'fga3', 'Wfgm3': 'fgm3', 'Wftm': 'ftm', 'Wto': 'to',\n",
    "                     'Wblk': 'blk', 'Wpf': 'pf', 'Wdr': 'dr', 'Wseed': 'seed', \n",
    "                     'Wfgp': 'fgp', 'Wfg3p': 'fg3p', 'Wftp': 'ftp', 'Wstl': 'stl'})\n",
    "        loser_losses = loser_losses.drop(['Wteam', 'Lteam'], 1)\n",
    "        loser_losses = loser_losses.rename(\n",
    "            columns={'Lfgm': 'fgm', 'Lfga3': 'fga3', 'Lfgm3': 'fgm3', 'Lftm': 'ftm', 'Lto': 'to',\n",
    "                     'Lblk': 'blk', 'Lpf': 'pf', 'Ldr': 'dr', 'Lseed': 'seed',\n",
    "                     'Lfgp': 'fgp', 'Lfg3p': 'fg3p', 'Lftp': 'ftp', 'Lstl': 'stl'})\n",
    "        loser_data = pd.concat([loser_wins, loser_losses], axis=0)\n",
    "        loser_averages = [loser_data[\"fgm\"].mean(), loser_data[\"fga3\"].mean(),\n",
    "                          loser_data[\"fgm3\"].mean(), loser_data[\"ftm\"].mean(), loser_data[\"to\"].mean(),\n",
    "                          loser_data[\"blk\"].mean(), loser_data[\"pf\"].mean(), loser_data[\"dr\"].mean(), \n",
    "                          loser_data[\"seed\"].iloc[0], loser_data[\"fgp\"].mean(),\n",
    "                           loser_data[\"fg3p\"].mean(), loser_data[\"ftp\"].mean(), \n",
    "                           loser_data[\"stl\"].mean()]\n",
    "        \n",
    "        loser_stats = pom[find_loser & find_season].drop(['Season', 'team_id'], axis=1)\n",
    "        if len(loser_stats) > 0:\n",
    "            loser_pom = loser_stats.values[0]\n",
    "            loser_averages.append(loser_pom[0])\n",
    "            loser_averages.append(loser_pom[1])\n",
    "        else:\n",
    "            loser_averages.append(0)\n",
    "            loser_averages.append(0)\n",
    "        loser_averages = np.array(loser_averages)\n",
    "        \n",
    "        # Find the stat difference between winner and loser\n",
    "        difference = np.subtract(winner_averages, loser_averages)\n",
    "        X_winners[ii, :] = difference\n",
    "        \n",
    "    #Create training examples out of losers\n",
    "    for ii, row in losers_year.iterrows():\n",
    "        winner = row[0]\n",
    "        loser = row[1]\n",
    "\n",
    "        # Calculate seasonal average stats for winner\n",
    "        is_winner_win = data_year['Wteam'] == winner\n",
    "        winner_wins = data_year[is_winner_win]\n",
    "        is_winner_loss = data_year['Lteam'] == winner\n",
    "        winner_losses = data_year[is_winner_loss]\n",
    "        winner_wins = winner_wins.drop(['Wteam', 'Lteam'], axis=1)\n",
    "        winner_wins = winner_wins.rename(\n",
    "            columns={'Wfgm': 'fgm', 'Wfga3': 'fga3', 'Wfgm3': 'fgm3', 'Wftm': 'ftm', 'Wto': 'to',\n",
    "                     'Wblk': 'blk', 'Wpf': 'pf', 'Wdr': 'dr', 'Wseed': 'seed', \n",
    "                     'Wfgp': 'fgp', 'Wfg3p': 'fg3p', 'Wftp': 'ftp', 'Wstl': 'stl'})\n",
    "        winner_losses = winner_losses.drop(['Wteam', 'Lteam'], 1)\n",
    "        winner_losses = winner_losses.rename(\n",
    "            columns={'Lfgm': 'fgm', 'Lfga3': 'fga3', 'Lfgm3': 'fgm3', 'Lftm': 'ftm', 'Lto': 'to',\n",
    "                     'Lblk': 'blk', 'Lpf': 'pf', 'Ldr': 'dr', 'Lseed': 'seed',\n",
    "                     'Lfgp': 'fgp', 'Lfg3p': 'fg3p', 'Lftp': 'ftp', 'Lstl': 'stl'})\n",
    "        winner_data = pd.concat([winner_wins, winner_losses], axis=0)\n",
    "        winner_averages = [winner_data[\"fgm\"].mean(), winner_data[\"fga3\"].mean(),\n",
    "                           winner_data[\"fgm3\"].mean(), winner_data[\"ftm\"].mean(), winner_data[\"to\"].mean(),\n",
    "                           winner_data[\"blk\"].mean(), winner_data[\"pf\"].mean(), winner_data[\"dr\"].mean(), \n",
    "                           winner_data[\"seed\"].iloc[0], winner_data[\"fgp\"].mean(),\n",
    "                           winner_data[\"fg3p\"].mean(), winner_data[\"ftp\"].mean(), \n",
    "                           winner_data[\"stl\"].mean()]\n",
    "        find_winner = pom['team_id'] == winner\n",
    "        find_loser = pom['team_id'] == loser\n",
    "        find_season = pom['Season'] == i\n",
    "        winner_stats = pom[find_winner & find_season].drop(['Season', 'team_id'], axis=1)\n",
    "  \n",
    "        if len(winner_stats) > 0:\n",
    "            winner_pom = winner_stats.values[0]\n",
    "            winner_averages.append(winner_pom[0])\n",
    "            winner_averages.append(winner_pom[1])\n",
    "        else:\n",
    "            winner_averages.append(0)\n",
    "            winner_averages.append(0)\n",
    "            \n",
    "        winner_averages = np.array(winner_averages)\n",
    "\n",
    "        # Calculate seasonal average stats for loser\n",
    "        is_loser_win = data_year['Wteam'] == loser\n",
    "        loser_wins = data_year[is_loser_win]\n",
    "        is_loser_loss = data_year['Lteam'] == loser\n",
    "        loser_losses = data_year[is_loser_loss]\n",
    "        loser_wins = loser_wins.drop(['Wteam', 'Lteam'], 1)\n",
    "        loser_wins = loser_wins.rename(\n",
    "            columns={'Wfgm': 'fgm', 'Wfga3': 'fga3', 'Wfgm3': 'fgm3', 'Wftm': 'ftm', 'Wto': 'to',\n",
    "                     'Wblk': 'blk', 'Wpf': 'pf', 'Wdr': 'dr', 'Wseed': 'seed', \n",
    "                     'Wfgp': 'fgp', 'Wfg3p': 'fg3p', 'Wftp': 'ftp', 'Wstl': 'stl'})\n",
    "        loser_losses = loser_losses.drop(['Wteam', 'Lteam'], 1)\n",
    "        loser_losses = loser_losses.rename(\n",
    "            columns={'Lfgm': 'fgm', 'Lfga3': 'fga3', 'Lfgm3': 'fgm3', 'Lftm': 'ftm', 'Lto': 'to',\n",
    "                     'Lblk': 'blk', 'Lpf': 'pf', 'Ldr': 'dr', 'Lseed': 'seed',\n",
    "                     'Lfgp': 'fgp', 'Lfg3p': 'fg3p', 'Lftp': 'ftp', 'Lstl': 'stl'})\n",
    "        loser_data = pd.concat([loser_wins, loser_losses], axis=0)\n",
    "        loser_averages = [loser_data[\"fgm\"].mean(), loser_data[\"fga3\"].mean(),\n",
    "                          loser_data[\"fgm3\"].mean(), loser_data[\"ftm\"].mean(), loser_data[\"to\"].mean(),\n",
    "                          loser_data[\"blk\"].mean(), loser_data[\"pf\"].mean(), loser_data[\"dr\"].mean(), \n",
    "                          loser_data[\"seed\"].iloc[0], loser_data[\"fgp\"].mean(),\n",
    "                           loser_data[\"fg3p\"].mean(), loser_data[\"ftp\"].mean(), \n",
    "                           loser_data[\"stl\"].mean()]\n",
    "        loser_stats = pom[find_loser & find_season].drop(['Season', 'team_id'], axis=1)\n",
    "        \n",
    "        if len(loser_stats) > 0:\n",
    "            loser_pom = loser_stats.values[0]\n",
    "            loser_averages.append(loser_pom[0])\n",
    "            loser_averages.append(loser_pom[1])\n",
    "        else:\n",
    "            loser_averages.append(0)\n",
    "            loser_averages.append(0)\n",
    "        \n",
    "        loser_averages = np.array(loser_averages)\n",
    "\n",
    "        # Find the stat difference between loser and winner\n",
    "        difference = np.subtract(loser_averages, winner_averages)\n",
    "        X_losers[ii, :] = difference\n",
    "\n",
    "    # Combine and Shuffle Winners and Losers Training Examples for the Current Season\n",
    "    X_winners = pd.DataFrame(X_winners)\n",
    "    X_winners.columns = [\"fgm\", \"fga3\", \"fgm3\", \"ftm\", \"to\", \"blk\", \"pf\", \"dr\", \"seed\",\n",
    "                         \"fgp\", \"fg3p\", \"ftp\", \"stl\", \"winrate\", \"rank\"]\n",
    "    X_winners['Label'] = 'Win'\n",
    "    X_losers = pd.DataFrame(X_losers)\n",
    "    X_losers.columns = [\"fgm\", \"fga3\", \"fgm3\", \"ftm\", \"to\", \"blk\", \"pf\", \"dr\", \"seed\",\n",
    "                         \"fgp\", \"fg3p\", \"ftp\", \"stl\", \"winrate\", \"rank\"]\n",
    "    X_losers['Label'] = 'Lose'\n",
    "\n",
    "    X_year = pd.concat([X_winners, X_losers], axis=0)\n",
    "    X_year = X_year.sample(frac=1).reset_index(drop=True)\n",
    "    print X_year.shape\n",
    "    dataset = pd.concat([dataset, X_year], axis=0)\n",
    "    print dataset.shape"
   ]
  },
  {
   "cell_type": "code",
   "execution_count": 8,
   "metadata": {
    "collapsed": false
   },
   "outputs": [],
   "source": [
    "dataset.to_csv('2015BigFinal.csv') #Save the new dataset "
   ]
  },
  {
   "cell_type": "markdown",
   "metadata": {},
   "source": [
    "Function that creates a test set for a given year to evaluate the model on."
   ]
  },
  {
   "cell_type": "code",
   "execution_count": 18,
   "metadata": {
    "collapsed": false
   },
   "outputs": [],
   "source": [
    "def make_testset(season):\n",
    "    '''\n",
    "    int -> DataFrame\n",
    "    \n",
    "    Creates a test set for a given year\n",
    "    '''\n",
    "    is_year = prediction_df['Year'] == season\n",
    "    prediction_year = prediction_df[is_year].drop('Year',1)\n",
    "    prediction_year = prediction_year.reset_index().drop('index',1)\n",
    "\n",
    "    X_test = np.zeros([prediction_year.shape[0],15])\n",
    "    \n",
    "    for ii, row in prediction_year.iterrows():\n",
    "        \n",
    "        #Extract team IDs, go into season data for just that team, find average values, use those to create test set\n",
    "        #row[0] is team 1, row[1] is team 2\n",
    "        is_currentyear = det['Season'] == season\n",
    "        det_currentyear = det[is_currentyear]\n",
    "        is_teamone_win = det_currentyear['Wteam'] == row[0]\n",
    "        is_teamone_lose = det_currentyear['Lteam'] == row[0]\n",
    "        teamone_winners_data = det_currentyear[is_teamone_win]\n",
    "        teamone_losers_data = det_currentyear[is_teamone_lose]\n",
    "        is_teamtwo_win = det_currentyear['Wteam'] == row[1]\n",
    "        is_teamtwo_lose = det_currentyear['Lteam'] == row[1]\n",
    "        teamtwo_winners_data = det_currentyear[is_teamtwo_win]\n",
    "        teamtwo_losers_data = det_currentyear[is_teamtwo_lose]\n",
    "\n",
    "        #Team One\n",
    "        #Extract the appropriate columns\n",
    "        teamone_winners_data = teamone_winners_data[['Wfgm', 'Wfga3', 'Wfgm3', 'Wftm', 'Wto', 'Wblk', \n",
    "                                                     'Wpf', 'Wdr', 'Wseed',\n",
    "                                                     'Wfgp', 'Wfg3p', 'Wftp', 'Wstl']]\n",
    "        teamone_losers_data = teamone_losers_data[['Lfgm', 'Lfga3', 'Lfgm3', 'Lftm', 'Lto', 'Lblk', 'Lpf', 'Ldr', 'Lseed', \n",
    "                                                   'Lfgp', 'Lfg3p', 'Lftp', 'Lstl']]\n",
    "        #Rename the columns and concatenate\n",
    "        teamone_winners_data = teamone_winners_data.rename(\n",
    "            columns={'Wfgm': 'fgm', 'Wfga3': 'fga3', 'Wfgm3': 'fgm3', 'Wftm': 'ftm', 'Wto': 'to',\n",
    "                     'Wblk': 'blk', 'Wpf': 'pf', 'Wdr': 'dr', 'Wseed': 'seed', \n",
    "                     'Wfgp': 'fgp', 'Wfg3p': 'fg3p', 'Wftp': 'ftp', 'Wstl': 'stl'})\n",
    "        teamone_losers_data = teamone_losers_data.rename(\n",
    "            columns={'Lfgm': 'fgm', 'Lfga3': 'fga3', 'Lfgm3': 'fgm3', 'Lftm': 'ftm', 'Lto': 'to',\n",
    "                     'Lblk': 'blk', 'Lpf': 'pf', 'Ldr': 'dr', 'Lseed': 'seed',\n",
    "                     'Lfgp': 'fgp', 'Lfg3p': 'fg3p', 'Lftp': 'ftp', 'Lstl': 'stl'})\n",
    "        teamone_losers_data\n",
    "        teamone_data = pd.concat([teamone_winners_data, teamone_losers_data], 0)\n",
    "        \n",
    "\n",
    "        #Create a single row of averages out of the data\n",
    "        teamone_averages = [teamone_data[\"fgm\"].mean(), teamone_data[\"fga3\"].mean(), teamone_data[\"fgm3\"].mean(), teamone_data[\"ftm\"].mean(), teamone_data[\"to\"].mean(), teamone_data[\"blk\"].mean(), teamone_data[\"pf\"].mean(), \n",
    "                            teamone_data[\"dr\"].mean(), teamone_data[\"seed\"].iloc[0], teamone_data[\"fgp\"].mean(),\n",
    "                            teamone_data[\"fg3p\"].mean(), teamone_data[\"ftp\"].mean(), teamone_data[\"stl\"].mean()]\n",
    "        find_teamone = pom['team_id'] == row[0]\n",
    "        find_teamtwo = pom['team_id'] == row[1]\n",
    "        find_season = pom['Season'] == season\n",
    "        \n",
    "        teamone_stats = pom[find_teamone & find_season].drop(['Season', 'team_id'], axis=1)\n",
    "        teamone_averages.append(teamone_stats.values[0][0])\n",
    "        teamone_averages.append(teamone_stats.values[0][1])\n",
    "        teamone_averages = np.array(teamone_averages)\n",
    "\n",
    "        #Team Two\n",
    "        #Extract the appropriate columns\n",
    "        teamtwo_winners_data = teamtwo_winners_data[['Wfgm', 'Wfga3', 'Wfgm3', 'Wftm', 'Wto', 'Wblk', 'Wpf', 'Wdr', 'Wseed',\n",
    "                                                     'Wfgp', 'Wfg3p', 'Wftp', 'Wstl']]\n",
    "        teamtwo_losers_data = teamtwo_losers_data[['Lfgm', 'Lfga3', 'Lfgm3', 'Lftm', 'Lto', 'Lblk', 'Lpf', 'Ldr', 'Lseed', \n",
    "                                                   'Lfgp', 'Lfg3p', 'Lftp', 'Lstl']]\n",
    "\n",
    "        #Rename the columns and concatenate\n",
    "        teamtwo_winners_data = teamtwo_winners_data.rename(\n",
    "             columns={'Wfgm': 'fgm', 'Wfga3': 'fga3', 'Wfgm3': 'fgm3', 'Wftm': 'ftm', 'Wto': 'to',\n",
    "                     'Wblk': 'blk', 'Wpf': 'pf', 'Wdr': 'dr', 'Wseed': 'seed', \n",
    "                     'Wfgp': 'fgp', 'Wfg3p': 'fg3p', 'Wftp': 'ftp', 'Wstl': 'stl'})\n",
    "        teamtwo_losers_data = teamtwo_losers_data.rename(\n",
    "            columns={'Lfgm': 'fgm', 'Lfga3': 'fga3', 'Lfgm3': 'fgm3', 'Lftm': 'ftm', 'Lto': 'to',\n",
    "                     'Lblk': 'blk', 'Lpf': 'pf', 'Ldr': 'dr', 'Lseed': 'seed',\n",
    "                     'Lfgp': 'fgp', 'Lfg3p': 'fg3p', 'Lftp': 'ftp', 'Lstl': 'stl'})\n",
    "        teamtwo_data = pd.concat([teamtwo_winners_data, teamtwo_losers_data], 0)\n",
    "\n",
    "        #Create a single row of averages out of the data\n",
    "        teamtwo_averages = [teamtwo_data[\"fgm\"].mean(), teamtwo_data[\"fga3\"].mean(), teamtwo_data[\"fgm3\"].mean(), teamtwo_data[\"ftm\"].mean(), teamtwo_data[\"to\"].mean(), teamtwo_data[\"blk\"].mean(), teamtwo_data[\"pf\"].mean(), \n",
    "                            teamtwo_data[\"dr\"].mean(), teamtwo_data[\"seed\"].iloc[0], teamtwo_data[\"fgp\"].mean(),\n",
    "                            teamtwo_data[\"fg3p\"].mean(), teamtwo_data[\"ftp\"].mean(),teamtwo_data[\"stl\"].mean()]\n",
    "        teamtwo_stats = pom[find_teamtwo & find_season].drop(['Season', 'team_id'], axis=1)\n",
    "        teamtwo_averages.append(teamtwo_stats.values[0][0])\n",
    "        teamtwo_averages.append(teamtwo_stats.values[0][1])\n",
    "        teamtwo_averages = np.array(teamtwo_averages)\n",
    "\n",
    "        #Take the difference between Team One and Team Two\n",
    "        difference = np.subtract(teamone_averages,teamtwo_averages)\n",
    "        X_test[ii,:] = difference\n",
    "        \n",
    "    return X_test"
   ]
  },
  {
   "cell_type": "markdown",
   "metadata": {},
   "source": [
    "Trains a logistic regression classification model on the dataset."
   ]
  },
  {
   "cell_type": "code",
   "execution_count": 10,
   "metadata": {
    "collapsed": true
   },
   "outputs": [],
   "source": [
    "def train_classifier(dataset):\n",
    "    '''\n",
    "    DataFrame - > Scikit Classifier Object\n",
    "    \n",
    "    Takes the generated dataset and trains a logistic regression classifier on it.\n",
    "    '''\n",
    "    X_train = dataset.drop(['Label'], 1)\n",
    "    Y_train = dataset['Label']\n",
    "\n",
    "    logistic_regression = LogisticRegression()\n",
    "    params = {'C': np.logspace(start=-5, stop=3, num=9)}\n",
    "    clf = GridSearchCV(logistic_regression, params, scoring='neg_log_loss', refit=True)\n",
    "    model = clf.fit(X_train, Y_train)\n",
    "    return model\n",
    "\n",
    "clf = train_classifier(dataset)"
   ]
  },
  {
   "cell_type": "markdown",
   "metadata": {},
   "source": [
    "This function grabs the team IDs and year from the submission file to apply the classifier on."
   ]
  },
  {
   "cell_type": "code",
   "execution_count": 11,
   "metadata": {
    "collapsed": true
   },
   "outputs": [],
   "source": [
    "def get_year_t1_t2(id):\n",
    "    '''\n",
    "    str -> list\n",
    "    \n",
    "    Helper function for taking the prediction .csv file and extracting the teams and year from the row labels.\n",
    "    Returns a list with integers for the year, team1 and team2.\n",
    "    '''\n",
    "    return [int(x) for x in id.split('_')]\n",
    "\n",
    "year = []\n",
    "team_one = []\n",
    "team_two = []\n",
    "for ii, row in sub.iterrows():\n",
    "    values = get_year_t1_t2(row.Id)\n",
    "    year.append(values[0])\n",
    "    team_one.append(values[1])\n",
    "    team_two.append(values[2])\n",
    "\n",
    "\n",
    "prediction_df = pd.DataFrame(\n",
    "    {'Year': year,\n",
    "     'TeamOne': team_one,\n",
    "     'TeamTwo': team_two\n",
    "    })"
   ]
  },
  {
   "cell_type": "code",
   "execution_count": 20,
   "metadata": {
    "collapsed": false
   },
   "outputs": [],
   "source": [
    "#Makes predictions on the test set and saves the results to a new CSV file\n",
    "preds_2016 = clf.predict_proba(make_testset(2016))[:,1]\n",
    "sub.Pred = preds_2016\n",
    "sub.to_csv('2016LogRegBestFeatures.csv')"
   ]
  },
  {
   "cell_type": "code",
   "execution_count": 21,
   "metadata": {
    "collapsed": false
   },
   "outputs": [
    {
     "name": "stdout",
     "output_type": "stream",
     "text": [
      "[False False False False False False False False False False False False\n",
      " False  True False]\n",
      "[14  8  7 13 15  5 12 10  6  2  3  4  9  1 11]\n"
     ]
    }
   ],
   "source": [
    "X_train = dataset.drop(['Label'], 1)\n",
    "Y_train = dataset['Label']\n",
    "\n",
    "model = LogisticRegression()\n",
    "\n",
    "rfe = RFE(model, 1)\n",
    "rfe = rfe.fit(X_train,Y_train)\n",
    "# Check the rankings of the attributes found using Recursive Feature Evaluation\n",
    "print(rfe.support_)\n",
    "print(rfe.ranking_)"
   ]
  },
  {
   "cell_type": "code",
   "execution_count": 23,
   "metadata": {
    "collapsed": false
   },
   "outputs": [
    {
     "name": "stdout",
     "output_type": "stream",
     "text": [
      "Top 5 Features by Importance: Winrate, Seed, Field-Goal percentage, 3-Point Percentage, Free-Throw Percentage, Turnovers \n"
     ]
    }
   ],
   "source": [
    "print (\"Top 5 Features by Importance: Winrate, Seed, Field-Goal percentage, 3-Point Percentage, Free-Throw Percentage, Turnovers \")"
   ]
  }
 ],
 "metadata": {
  "kernelspec": {
   "display_name": "Python 2",
   "language": "python",
   "name": "python2"
  },
  "language_info": {
   "codemirror_mode": {
    "name": "ipython",
    "version": 2
   },
   "file_extension": ".py",
   "mimetype": "text/x-python",
   "name": "python",
   "nbconvert_exporter": "python",
   "pygments_lexer": "ipython2",
   "version": "2.7.12"
  }
 },
 "nbformat": 4,
 "nbformat_minor": 1
}
